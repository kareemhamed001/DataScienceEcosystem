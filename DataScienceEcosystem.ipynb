{
 "cells": [
  {
   "cell_type": "markdown",
   "id": "31c7b1b6-a036-4335-92e1-3b752b28bec0",
   "metadata": {
    "tags": []
   },
   "source": [
    "# Data Science Tools and Ecosystem"
   ]
  },
  {
   "cell_type": "markdown",
   "id": "c43a49be-829f-446e-b60c-ab79ce7bc302",
   "metadata": {},
   "source": [
    "In this notebook, Data Science Tools and Ecosystem are summarized."
   ]
  },
  {
   "cell_type": "markdown",
   "id": "ae965706-d706-4eec-8126-98a8db26a8c5",
   "metadata": {},
   "source": [
    "Some of the popular languages that Data Scientists use are:\n",
    "<ol>\n",
    "    <li>\n",
    "Python\n",
    "    </li>\n",
    "    <li>\n",
    "R\n",
    "    </li>\n",
    "    <li>\n",
    "Julia\n",
    "    </li>\n",
    "    <li>\n",
    " C++\n",
    "    </li>\n",
    "    <li>\n",
    "Java\n",
    "    </li>\n",
    "</ol>\n"
   ]
  },
  {
   "cell_type": "markdown",
   "id": "aaed8dfb-1890-4026-b466-46d2a1e7b267",
   "metadata": {},
   "source": [
    "Some of the commonly used libraries used by Data Scientists in Python include:\n",
    "<ol>\n",
    "    <li>\n",
    "Pandas\n",
    "    </li>\n",
    "    <li>\n",
    "Numpy\n",
    "    </li>\n",
    "    <li>\n",
    "Keras\n",
    "    </li>\n",
    "    <li>\n",
    "Tensorflow\n",
    "    </li>\n",
    "    <li>\n",
    "Matplotlib\n",
    "    </li>\n",
    "        <li>\n",
    "Seaborn\n",
    "    </li>\n",
    "</ol>"
   ]
  },
  {
   "cell_type": "markdown",
   "id": "333e2be0-ca9c-4ec1-92c4-9c228514409f",
   "metadata": {},
   "source": [
    "<table class=\"table table-bordered\">\n",
    "  <thead class=\"thead-dark\">\n",
    "    <tr>\n",
    "      <th scope=\"col\" >Data Science Tools</th>\n",
    "    </tr>\n",
    "  </thead>\n",
    "  <tbody>\n",
    "    <tr>\n",
    "      <td>Jupyter Notebook</td>\n",
    "    </tr>\n",
    "    <tr>\n",
    "      <td>RStudio</td>\n",
    "    </tr>\n",
    "    <tr>\n",
    "      <td>Visual Studio Code</td>\n",
    "    </tr>\n",
    "  </tbody>\n",
    "</table>\n",
    "\n"
   ]
  },
  {
   "cell_type": "markdown",
   "id": "34381a85-789f-44f8-9341-94bfdacef899",
   "metadata": {
    "tags": []
   },
   "source": [
    "### Below are a few examples of evaluating arithmetic expressions in Python.\n",
    "\n",
    "You can use Python to perform various arithmetic operations. Here are some examples of arithmetic expressions:\n",
    "\n",
    "1. Addition:\n",
    "    <br>\n",
    "    result = 5 + 3\n",
    "    <br>\n",
    "    print(result)  # Output: 8"
   ]
  },
  {
   "cell_type": "code",
   "execution_count": 1,
   "id": "a74aced9-4772-4cbd-8718-bc656a9a69ca",
   "metadata": {},
   "outputs": [
    {
     "name": "stdout",
     "output_type": "stream",
     "text": [
      "17\n"
     ]
    }
   ],
   "source": [
    "# This is a simple arithmetic expression to multiply then add integers.\n",
    "result = (3 * 4) + 5\n",
    "print(result)  # Output: 17"
   ]
  },
  {
   "cell_type": "code",
   "execution_count": 2,
   "id": "b69ec53d-9216-4fa8-a1d8-2cfa38b1d94d",
   "metadata": {},
   "outputs": [
    {
     "name": "stdout",
     "output_type": "stream",
     "text": [
      "3.3333333333333335\n"
     ]
    }
   ],
   "source": [
    "# This will convert 200 minutes to hours by dividing by 60.\n",
    "minutes = 200\n",
    "hours = minutes / 60\n",
    "print(hours)  # Output: 3.3333333333333335\n"
   ]
  },
  {
   "cell_type": "markdown",
   "id": "0c9aff10-d260-40fe-b941-fcfb971eb63f",
   "metadata": {},
   "source": [
    "**Objectives:**\n",
    "\n",
    "- List popular languages for Data Science.\n",
    "- Introduce Jupyter Notebook and its features.\n",
    "- Understand basic data types and data structures in Python.\n",
    "- Explore data visualization using matplotlib and seaborn.\n",
    "- Demonstrate simple arithmetic operations in Python.\n",
    "- Convert minutes to hours using Python.\n"
   ]
  },
  {
   "cell_type": "markdown",
   "id": "3509db9c-8e69-46cb-9196-fa45a0eb107c",
   "metadata": {
    "tags": []
   },
   "source": [
    "## Author\n",
    "Kareem Hamed Ibrahim\n"
   ]
  },
  {
   "cell_type": "code",
   "execution_count": null,
   "id": "85df8f5f-3c9d-4fd1-9523-9be77edc54bd",
   "metadata": {},
   "outputs": [],
   "source": []
  }
 ],
 "metadata": {
  "kernelspec": {
   "display_name": "Python 3 (ipykernel)",
   "language": "python",
   "name": "python3"
  },
  "language_info": {
   "codemirror_mode": {
    "name": "ipython",
    "version": 3
   },
   "file_extension": ".py",
   "mimetype": "text/x-python",
   "name": "python",
   "nbconvert_exporter": "python",
   "pygments_lexer": "ipython3",
   "version": "3.9.12"
  }
 },
 "nbformat": 4,
 "nbformat_minor": 5
}
